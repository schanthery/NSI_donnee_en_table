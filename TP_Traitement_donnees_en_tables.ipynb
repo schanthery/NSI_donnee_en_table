{
 "cells": [
  {
   "cell_type": "markdown",
   "metadata": {},
   "source": [
    "<H1>TP traitement de données en tables</H1>\n",
    "<h2>Les données au format <b>CSV</b></h2>\n",
    "    <p>\n",
    "Une recherche sur wikipedia nous donne :\n",
    "    <b>“Comma-separated values</b>, connu sous le sigle <b>CSV</b>, est un format texte ouvert représentant des données tabulaires sous forme de valeurs séparées par des virgules.”\n",
    "“Un fichier CSV est un fichier texte, par opposition aux formats dits « binaires ». Chaque ligne du texte correspond à une ligne du tableau et les virgules correspondent aux séparations entre les colonnes. Les portions de texte séparées par une virgule correspondent ainsi aux contenus des cellules du tableau.”\n",
    "        <p>\n",
    "\n",
    "Dans la pratique le séparateur peut être : une virgule, un point-virgule, une tabulation, …\n",
    "En particulier le séparateur peut être différent en fonction du pays d'origine des données.\n",
    "\n",
    "On peut trouver ce type de données sur le site https://www.data.gouv.fr (données publiques de l’État et des administrations). Vous pouvez visiter la page https://doc.data.gouv.fr pour plus d'informations.\n",
    "\n",
    "<p> Nous allons traiter dans ce TP des fichiers structurés au format <b>CSV</b> à l'aide de la bibliothèque Python <b>csv</b></p>\n",
    "\n",
    "<p>Nous allons utiliser deux fichiers  relatifs à des données démographiques des départements français.</p>\n",
    "\n",
    "<p>Le premier fichier se nomme <a href=\"Departements_francais.csv\"><b>Departements_francais.csv</b></a>.</p>\n",
    "<p>Il contient la liste des départements français avec comme ligne d'entête les champs suivants :</p>\n",
    "<ul>\n",
    "    <li>\n",
    "        <b>Numéro</b> : Numéro du département\n",
    "    </li>\n",
    "    <li>\n",
    "        <b>Département</b> : nom du département\n",
    "    </li>\n",
    "    <li>\n",
    "        <b>Superficie</b> : en km²\n",
    "    </li>\n",
    "    <li>\n",
    "        <b>Population</b>\n",
    "    </li>\n",
    "</ul>\n",
    "<p><p>Le deuxième fichier se nomme <a href=\"Departements_et_Regions_francaises.csv\"><b>Departements_et_Regions_francaises.csv</b></a>.</p>\n",
    "<p>Il contient la liste des départements français et les régions associées avec comme ligne d'entête les champs suivants :</p>\n",
    "<ul>\n",
    "    <li>\n",
    "        <b>Numéro</b> : Numéro du département\n",
    "    </li>\n",
    "    <li>\n",
    "        <b>Département</b> : nom du département\n",
    "    </li>\n",
    "    <li>\n",
    "        <b>Région</b> : nom de la région qui contient le département\n",
    "    </li>\n",
    "</ul>"
   ]
  },
  {
   "cell_type": "markdown",
   "metadata": {},
   "source": [
    "<h2>Lecture du fichier <code>Departements_francais.csv</code></h2>\n",
    "<p> Exécuter le code ci-dessous</p> :"
   ]
  },
  {
   "cell_type": "code",
   "execution_count": null,
   "metadata": {},
   "outputs": [],
   "source": [
    "import csv\n",
    "NOM_FICHIER_DES_DEPARTEMENTS = \"Departements_francais.csv\"\n",
    "\n",
    "def lit_fichier_csv(nom_fichier):\n",
    "    f = open(nom_fichier)\n",
    "    reader = csv.reader(f)\n",
    "    #reader = csv.DictReader(f)\n",
    "    donnees = [row for row in reader]\n",
    "    return donnees[1:]\n",
    "\n",
    "donnees = lit_fichier_csv(NOM_FICHIER_DES_DEPARTEMENTS)\n",
    "for d in donnees:\n",
    "    print(d)\n"
   ]
  },
  {
   "cell_type": "markdown",
   "metadata": {},
   "source": [
    "<h3>Commentaires</h3>\n",
    "<p>La fonction <code> lit_fichier_csv(nom_fichier)</code> lit le fichier <code>nom_fichier</code> qui est passé en paramètre et retourne une liste dont chaque élément est une liste contenant chaque ligne du fichier sauf la ligne d'entête.</p>\n"
   ]
  },
  {
   "cell_type": "markdown",
   "metadata": {},
   "source": [
    "<h3>A faire 1</h3>\n",
    "<p>Compléter la fonction <code>nom_departement(numero)</code> qui doit retourner le nom du département correspondant au <code>numero</code> passé en paramètre si le numéro de département est bien présent dans le fichier ou bien \"Numéro de département inconnu\" sinon.</p>\n",
    "<p>Attention au <b>type de données</b> du numéro de département retourné par la fonction <code>lit_fichier_csv(nom_fichier)</code>.</p>"
   ]
  },
  {
   "cell_type": "code",
   "execution_count": null,
   "metadata": {},
   "outputs": [],
   "source": [
    "def nom_departement(numero):\n",
    "    donnees = lit_fichier_csv(NOM_FICHIER_DES_DEPARTEMENTS)"
   ]
  },
  {
   "cell_type": "markdown",
   "metadata": {},
   "source": [
    "<h3>A Faire 2</h3>"
   ]
  },
  {
   "cell_type": "markdown",
   "metadata": {},
   "source": [
    "<p>Compléter la fonction <code>numero_departement(nom)</code> qui doit retourner le nom du département correspondant au <code>nom</code> du département passé en paramètre si le nom de département est bien présent dans le fichier ou bien \"Nom de département inconnu\" sinon.</p>"
   ]
  },
  {
   "cell_type": "code",
   "execution_count": null,
   "metadata": {},
   "outputs": [],
   "source": [
    "def numero_departement(nom):\n",
    "    donnees = lit_fichier_csv(NOM_FICHIER_DES_DEPARTEMENTS)"
   ]
  },
  {
   "cell_type": "markdown",
   "metadata": {},
   "source": [
    "<h3>A Faire 3</h3>"
   ]
  },
  {
   "cell_type": "markdown",
   "metadata": {},
   "source": [
    "<p>Compléter la fonction <code>superficie_et_population_departement(numero)</code> qui doit retourner la superficie et la population département correspondant au <code>numéro</code> du département passé en paramètre si le numéro du département est bien présent dans le fichier ou bien \"Numéro de département inconnu\" sinon.</p>"
   ]
  },
  {
   "cell_type": "code",
   "execution_count": null,
   "metadata": {},
   "outputs": [],
   "source": [
    "def superficie_et_population_departement(numero):\n",
    "    donnees = lit_fichier_csv(NOM_FICHIER_DES_DEPARTEMENTS)"
   ]
  },
  {
   "cell_type": "markdown",
   "metadata": {},
   "source": [
    "<h3>A Faire 4</h3>"
   ]
  },
  {
   "cell_type": "markdown",
   "metadata": {},
   "source": [
    "<p>Compléter la fonction <code>intervalle_population(mini,maxi)</code> qui doit retourner la liste des noms des départements dont la population est comprise dans l'intervalle [min,maxi].</p>"
   ]
  },
  {
   "cell_type": "code",
   "execution_count": null,
   "metadata": {},
   "outputs": [],
   "source": [
    "def intervalle_population(mini,maxi):\n",
    "    donnees = lit_fichier_csv(NOM_FICHIER_DES_DEPARTEMENTS)"
   ]
  },
  {
   "cell_type": "markdown",
   "metadata": {},
   "source": [
    "<h3>A Faire 5</h3>"
   ]
  },
  {
   "cell_type": "markdown",
   "metadata": {},
   "source": [
    "<p>Compléter la fonction <code>top_population(top)</code> qui doit retourner la liste des <code>top</code> départements les plus peuplés.</p>\n",
    "<p>On retournera une liste de dictionnaires dont la clef sera le nom du département et la valeur le nombre d'habitants du département.</p>"
   ]
  },
  {
   "cell_type": "code",
   "execution_count": null,
   "metadata": {},
   "outputs": [],
   "source": [
    "def top_population(top):\n",
    "    donnees = lit_fichier_csv(NOM_FICHIER_DES_DEPARTEMENTS)"
   ]
  },
  {
   "cell_type": "markdown",
   "metadata": {},
   "source": [
    "<h3>A Faire 6</h3>\n",
    "<p>Compléter la fonction <code>top_population_densite(top)</code> qui retourne la liste des <code>top</code> départements ayant la <b>densité</b> de population la plus élevée.</p>\n",
    "<p>Compléter la fonction <code>down_population_densite(down)</code> qui retourne la liste des <code>down</code> départements ayant la <b>densité</b> de population la plus élevée.</p>"
   ]
  },
  {
   "cell_type": "code",
   "execution_count": null,
   "metadata": {},
   "outputs": [],
   "source": [
    "def top_population_densite(top):\n",
    "    donnees = lit_fichier_csv(NOM_FICHIER_DES_DEPARTEMENTS)\n",
    "                \n",
    "def down_population_densite(down):\n",
    "    donnees = lit_fichier_csv(NOM_FICHIER_DES_DEPARTEMENTS)"
   ]
  },
  {
   "cell_type": "markdown",
   "metadata": {},
   "source": [
    "<p>Utiliser les fonctions précédentes pour déterminer le département le plus densemment peuplé et le département le moins densemment peuplé.</p>"
   ]
  },
  {
   "cell_type": "markdown",
   "metadata": {},
   "source": [
    "<h3>A Faire 7</h3>\n",
    "<p>Déterminer la superficie totale du territoire français (métropole uniquement) en écrivant le corps de la fonction <code>surperficie_territoire_francais()</code> à partir du champs <code>superficie</code> du fichier <code>Departements_et_Regions_francaises.csv</code>.</p>"
   ]
  },
  {
   "cell_type": "code",
   "execution_count": null,
   "metadata": {},
   "outputs": [],
   "source": [
    "def surperficie_territoire_francais():\n",
    "    donnees = lit_fichier_csv(NOM_FICHIER_DES_DEPARTEMENTS)"
   ]
  },
  {
   "cell_type": "markdown",
   "metadata": {},
   "source": [
    "<p>Comparer le résultat de votre programme avec celui donné officiellement.</p>\n",
    "<p>Comment expliquer la différence ?</p>"
   ]
  },
  {
   "cell_type": "markdown",
   "metadata": {},
   "source": [
    "<h3>A Faire 8</h3>\n",
    "<p>Nous allons utiliser maintenant le fichier avec les régions : <code><b>Departements_et_Regions_francaises.csv</b></code>.</p>\n",
    "<p>Ecrire le corps de la fonction <code>liste_regions_francaises()</code> qui retourne la liste des régions françaises à partir du fichier csv <code><b>Departements_et_Regions_francaises.csv</b></code>.</p>"
   ]
  },
  {
   "cell_type": "code",
   "execution_count": null,
   "metadata": {},
   "outputs": [],
   "source": [
    "NOM_FICHIER_DES_REGIONS = \"Departements_et_Regions_francaises.csv\"\n",
    "def liste_regions_francaises():\n",
    "    donnees = lit_fichier_csv(NOM_FICHIER_DES_REGIONS)\n",
    "    "
   ]
  },
  {
   "cell_type": "markdown",
   "metadata": {},
   "source": [
    "<h3>A Faire 9</h3>\n",
    "<p>En utilisant les deux fichiers CSV, ecrire le corps de la fonction <code>dictionnaire_departements_par_region()</code> qui retourne un dictionnaire des régions françaises avec les départements rattachés à chaque région.</p>\n",
    "<p> La <b>clef</b> du dictionnaire sera le nom d'une région et la <b>valeur</b> la liste des tuples (numéro de département,nom de département) des départements appartenant à la région.</p>"
   ]
  },
  {
   "cell_type": "code",
   "execution_count": null,
   "metadata": {},
   "outputs": [],
   "source": [
    "def dictionnaire_departements_par_region():\n",
    "    donnees_departements = lit_fichier_csv(NOM_FICHIER_DES_DEPARTEMENTS)\n",
    "    donnees_regions = lit_fichier_csv(NOM_FICHIER_DES_REGIONS)"
   ]
  },
  {
   "cell_type": "markdown",
   "metadata": {},
   "source": [
    "<h3>A Faire 10</h3>\n",
    "<p>Compléter la fonction <code>population_densite_par_region()</code> qui retourne un dictionnaire dont les <b>clefs</b> sont les noms des régions et les <b>valeurs</b> la densité de population de la région.</p>"
   ]
  },
  {
   "cell_type": "code",
   "execution_count": null,
   "metadata": {},
   "outputs": [],
   "source": [
    "def population_densite_par_region():\n",
    "    donnees_departements = lit_fichier_csv(NOM_FICHIER_DES_DEPARTEMENTS)\n",
    "    donnees_regions = lit_fichier_csv(NOM_FICHIER_DES_REGIONS)"
   ]
  },
  {
   "cell_type": "markdown",
   "metadata": {},
   "source": [
    "<h3>Visualisation des données des fichiers csv sur une carte géographique</h3>\n",
    "<p>Nous allons utiliser la bibliothèque Python <b><a href=\"https://python-visualization.github.io/folium/quickstart.html\">Folium</a></b></p> qui permet de visualiser et d'insérer des données sur une carte géographique</p>\n",
    "<p><u>Principe de fonctionnement de <b>Folium</b></u> :</p>\n",
    "<p>On peut afficher se positionner sur la carte mondiale à partir des corrdonnées géographiques (longitude et latitude) à l'aide de la fonction <code>Map(location,zoom_start)</code></p>"
   ]
  },
  {
   "cell_type": "markdown",
   "metadata": {},
   "source": [
    "<h3>A faire 11</h3>\n",
    "<p>Rechercher sur Internet les coordonnées géographiques du lycée Stanislas Nice et modifier le code suivant afin que la carte s'affiche en étant centrée sur notre lycée</p>\n",
    "<p>Expérimenter différents niveaux de zoom (valeurs possibles de 1 à 10)</p>"
   ]
  },
  {
   "cell_type": "code",
   "execution_count": null,
   "metadata": {},
   "outputs": [],
   "source": [
    "import folium\n",
    "import pandas as pd\n",
    "import json\n",
    "#m = folium.Map(location=[45.5236, -122.6750])\n",
    "m = folium.Map(location=[-25.0646135, 132.1838516],zoom_start=3)\n",
    "m"
   ]
  },
  {
   "cell_type": "markdown",
   "metadata": {},
   "source": [
    "<h4>Visualisation des départements et des régions françaises sur la carte</h4>\n",
    "<p>Il est possible de \"plaquer\" sur le fond de carte des données issues de fichiers texte.</p>\n",
    "<p>Avec Folium, on peut utiliser des fichiers au format <b><a hrref=\"https://fr.wikipedia.org/wiki/GeoJSON\">GeoJSON</a></b> qui est un format texte plus élaboré que celui étudié dans ce TP (le format <b>CSV</b>)</p>\n",
    "<p>Ce format <b>GeoJSON</b> est basé sur le format <b><a href=\"https://fr.wikipedia.org/wiki/JavaScript_Object_Notation\">JSON</a></b> : JavaScript Object Notation.</p>\n",
    "<p>JavaScript Object Notation (JSON) est un format de données textuelles dérivé de la notation des objets du langage <b>JavaScript</b>. Il permet de représenter de l’information structurée.</p>\n",
    "<p>Le format <b>GeoJSON</b> est un format créé spécifiquement pour représenter des données sur une carte géographique.</p>\n",
    "<p>Sans détailler ce format, on peut en simplifiant dire que les données qu'il permet de représenter sont composées de points représenter par leur coordonnées géograhiques (latitude et longitude).</p>\n",
    "<p>Ces points sont regroupés sous forme de polygones afin de représenter sur une carte des zones particulières : départements, régions, pays, etc ....</p>\n",
    "<h4>Exemple : visualisation des départements français</h4>\n",
    "<p>L'exemple ci-dessous, permet de placer un calque avec les contours des départements français sur la carte géographique</p>\n",
    "<p>Pour cela, nous avons télécharger un fichier GeoJSON des départements français.</p>\n",
    "<p>Ce fichier se nomme : <b>departements.geojson.txt</b>."
   ]
  },
  {
   "cell_type": "code",
   "execution_count": null,
   "metadata": {},
   "outputs": [],
   "source": [
    "GEOJSON = \"departements.geojson.txt\"\n",
    "m = folium.Map(location=[43.70683, 7.27],zoom_start=10)\n",
    "folium.GeoJson(\n",
    "    GEOJSON,\n",
    "    name='geojson'\n",
    ").add_to(m)\n",
    "folium.LayerControl().add_to(m)\n",
    "m"
   ]
  },
  {
   "cell_type": "markdown",
   "metadata": {},
   "source": [
    "<h3>A faire 12</h3>\n",
    "<p>Modifier le code suivant afin qu'une infobulle affiche le numéro et le nom du département au survol de la souris.</p>\n",
    "<p>Pour cela, il vous faudra analyser le fichier GeoJSON <b>departements.geojson.txt</b> en chargeant ce fichier dans cet outil en ligne : <a href=\"http://jsonviewer.stack.hu/\">Online JSON Viewer</a>.<p>\n",
    "<p>Il faudra trouver les noms des champs dans ce fichier qui correspondent au numéro et au nom du département.</p>\n",
    "<p>La ligne à compléter est celle_ci :</p>\n",
    "<p><code>fc.add_child(folium.features.GeoJsonTooltip(fields=['','']))</code></p>\n",
    "<p>Il faut indiquer dans la liste nommée <code>fields</code> les noms des champs à faire figurer dans l'info-bulle</p>"
   ]
  },
  {
   "cell_type": "code",
   "execution_count": null,
   "metadata": {},
   "outputs": [],
   "source": [
    "GEOJSON = \"departements.geojson.txt\"\n",
    "m = folium.Map(location=[43.70683, 7.27],zoom_start=5)\n",
    "fc = folium.GeoJson(\n",
    "    GEOJSON,\n",
    "    name='geojson'\n",
    ").add_to(m)\n",
    "\n",
    "fc.add_child(folium.features.GeoJsonTooltip(fields=['','']))\n",
    "\n",
    "folium.LayerControl().add_to(m)\n",
    "m"
   ]
  },
  {
   "cell_type": "markdown",
   "metadata": {},
   "source": [
    "<h3>A faire 13</h3>\n",
    "<p>Procéder de même pour faire figurer la liste des pays du continent africain à partir du fichier GeoJSON nommé <b>afrique.geo.json</b>.</p>"
   ]
  },
  {
   "cell_type": "code",
   "execution_count": null,
   "metadata": {},
   "outputs": [],
   "source": [
    "GEOJSON = \"afrique.geo.json\"\n",
    "m = folium.Map(location=[43.70683, 7.27],zoom_start=5)\n",
    "\n",
    "fc = folium.GeoJson(\n",
    "    GEOJSON,\n",
    "    name='geojson'\n",
    ").add_to(m)\n",
    "\n",
    "fc.add_child(\n",
    "    folium.features.GeoJsonTooltip(fields=['']))\n",
    "\n",
    "folium.LayerControl().add_to(m)\n",
    "m\n"
   ]
  },
  {
   "cell_type": "markdown",
   "metadata": {},
   "source": [
    "<h4>Visualisation sous la forme d'une carte choroplèthe</h4>\n",
    "<p>Une carte <b>choroplèthe</b> (du grec χῶρος : « zone/région » et πλῆθος : « grand nombre, multitude ») est une carte thématique où les régions sont colorées ou remplies d'un motif qui montre une mesure statistique, tels la densité de population ou le revenu par habitant. Ce type de carte facilite la comparaison d'une mesure statistique d'une région à l'autre ou montre la variabilité de celle-ci pour une région donnée.</p>\n",
    "<p>\n",
    "    <img src=\"Carte_chroplethe.PNG\">\n",
    "</p>\n",
    "<p>Avec la bibliothéque Python <b>Folium</b>, une carte choroplèthe s'affiche à l'aide de la méthode <code>Choropleth()</code> dont les paramètres de données sont le fichier geoJSON de la carte (paramètre <b>geo_data</b>) et le fichier des données à représenter sur la carte avec un dégradé de couleurs selon les valeurs numériques (paramètre <b>data</b>).</p>\n",
    "<p>La correspondance entre les deux fichiers se réalise à partir d'un champ dont les valeurs sont communes.</p>\n",
    "<p>Dans notre exemple des département, la correspondance se fait sur le numéro de département.</p>"
   ]
  },
  {
   "cell_type": "markdown",
   "metadata": {},
   "source": [
    "<h4>Exemple : variation de la densité de population pour les départements français</h4>\n"
   ]
  },
  {
   "cell_type": "code",
   "execution_count": null,
   "metadata": {},
   "outputs": [],
   "source": [
    "GEOJSON = \"departements.geojson.txt\"\n",
    "NOM_FICHIER_DEPARTEMENTS_FRANCAIS = \"Departements_francais.csv\"\n",
    "DATA = pd.read_csv(NOM_FICHIER_DEPARTEMENTS_FRANCAIS)\n",
    "print(DATA)\n",
    "bins = list(DATA['densite'].quantile([i/5 for i in range(6)]))\n",
    "m = folium.Map(location=[43.70683, 7.27],zoom_start=5)\n",
    "fc = folium.Choropleth(\n",
    "    geo_data=GEOJSON,\n",
    "    name='choropleth',\n",
    "    data=DATA,\n",
    "    columns=['Numéro', 'Population'],\n",
    "    key_on='feature.properties.code',\n",
    "    fill_color='PuBu',\n",
    "    fill_opacity=1,\n",
    "    line_opacity=1,\n",
    "    nan_fill_color = 'white',\n",
    "    nan_fill_opacity=0,\n",
    "    #legend_name='Population des départements français',\n",
    "    bins=bins\n",
    ").add_to(m)\n",
    "fc.geojson.add_child(\n",
    "    folium.features.GeoJsonTooltip(aliases=['',''],fields=['code','nom']))\n",
    "\n",
    "m"
   ]
  },
  {
   "cell_type": "markdown",
   "metadata": {},
   "source": [
    "<h3>A faire 14</h3>\n",
    "<p>En utilisant la fonction <code>population_densite_par_region()</code> précédemment codée et le fichier GeoJSON <code>regions.geojson.txt</code>, produite la carte choroplèthe de la répartition de la densité de population des régions françaises.</p>\n",
    "<p><u>Indications</u> :</p>\n",
    "<p>\n",
    "    Il faudra transformer le dictionnaire retourné par la fonction <code>population_densite_par_region</code> en un autre dictionnaire nommé <code>dict</code> qui contient deux clefs :\n",
    "<ul>\n",
    "    <li>La première se nommera <code>region</code> et sa valeur sera la liste des régions</li>\n",
    "    <li>La deuxième se nommera <code>densite</code> et sa valeur sera la liste des densités des régions</li>    \n",
    "</ul>\n",
    "</p>\n",
    "<p>\n",
    "    L'instruction <code>DATA = pd.DataFrame(data=dict)</code> permet de transformer le dictionnaire <code>dict</code> en un objet nommé <code>DataFrame</code> de la bibliothèque <code>Pandas</code>.\n",
    "</p>\n",
    "<p>\n",
    "    Cet objet de type <code>DataFrame</code> est celui qui est passé dans le paramètre <code>data</code> de la fonction <code>Choropleth</code> de la bibiothèque <code>Folium</code>.\n",
    "</p>\n"
   ]
  },
  {
   "cell_type": "code",
   "execution_count": null,
   "metadata": {},
   "outputs": [],
   "source": [
    "GEOJSON = \"regions.geojson.txt\"\n",
    "#----------------------------------------------------------------\n",
    "# Appeler ici la fonction population_densite_par_region()\n",
    "# et transformer le dictionnaire retourné comme indiqué ci dessus\n",
    "# Puis transformer le dictionnaire obtenu en un objet DataFrame\n",
    "#---------------------------------------------------------------\n",
    "bins = list(DATA['densite'].quantile([i/5 for i in range(6)]))\n",
    "m = folium.Map(location=[43.70683, 7.27],zoom_start=5)\n",
    "fc = folium.Choropleth(\n",
    "    geo_data=GEOJSON,\n",
    "    name='choropleth',\n",
    "    data=DATA,\n",
    "    columns=['region', 'densite'],\n",
    "    key_on='feature.properties.nom',\n",
    "    fill_color='PuBu',\n",
    "    fill_opacity=1,\n",
    "    line_opacity=1,\n",
    "    nan_fill_color = 'white',\n",
    "    nan_fill_opacity=0,\n",
    "    #legend_name='Population des départements français',\n",
    "    bins=bins\n",
    ").add_to(m)\n",
    "fc.geojson.add_child(\n",
    "    folium.features.GeoJsonTooltip(aliases=[''],fields=['nom']))\n",
    "\n",
    "m"
   ]
  },
  {
   "cell_type": "code",
   "execution_count": null,
   "metadata": {},
   "outputs": [],
   "source": []
  }
 ],
 "metadata": {
  "kernelspec": {
   "display_name": "Python 3",
   "language": "python",
   "name": "python3"
  },
  "language_info": {
   "codemirror_mode": {
    "name": "ipython",
    "version": 3
   },
   "file_extension": ".py",
   "mimetype": "text/x-python",
   "name": "python",
   "nbconvert_exporter": "python",
   "pygments_lexer": "ipython3",
   "version": "3.7.4"
  }
 },
 "nbformat": 4,
 "nbformat_minor": 4
}
